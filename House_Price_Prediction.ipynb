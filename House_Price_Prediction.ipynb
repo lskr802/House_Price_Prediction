{
 "cells": [
  {
   "cell_type": "markdown",
   "metadata": {},
   "source": [
    "# House price prediction"
   ]
  },
  {
   "cell_type": "markdown",
   "metadata": {},
   "source": [
    "Step 1: Import panda libraries and read test and training data"
   ]
  },
  {
   "cell_type": "code",
   "execution_count": 1,
   "metadata": {
    "_cell_guid": "1f11a314-afd3-4dca-a170-96d618bc4411",
    "_uuid": "d7fcfd5f4acb753f34ccd74d099ffb20746949cf",
    "collapsed": true
   },
   "outputs": [],
   "source": [
    "import pandas as pd\n",
    "train_data_csv = pd.read_csv('../input/train.csv')\n",
    "test_data_csv = pd.read_csv('../input/test.csv')"
   ]
  },
  {
   "cell_type": "markdown",
   "metadata": {},
   "source": [
    "tep 2: Select target attribute (Attribute that we are going to predict.) and also select attributes on which we are going to apply machine learning algorithm."
   ]
  },
  {
   "cell_type": "code",
   "execution_count": 2,
   "metadata": {
    "_cell_guid": "157fd214-9c6c-4482-9b42-f8008b7dc816",
    "_uuid": "2e775ea430f27b8ef7077ab099b6bd8bd6682df8",
    "collapsed": true
   },
   "outputs": [],
   "source": [
    "target = train_data_csv.SalePrice\n",
    "train_data = train_data_csv.drop(['SalePrice'],axis=1).select_dtypes(exclude = ['object'])"
   ]
  },
  {
   "cell_type": "markdown",
   "metadata": {},
   "source": [
    "Step 3: Import machine learning libraries"
   ]
  },
  {
   "cell_type": "code",
   "execution_count": 3,
   "metadata": {
    "_cell_guid": "4c00e571-fb41-40d2-a12e-37b9b9a3f9f2",
    "_uuid": "ebfab5fa6e239f5756360bd6f561d7b2bf32fa1c",
    "collapsed": true
   },
   "outputs": [],
   "source": [
    "from sklearn.preprocessing import Imputer"
   ]
  },
  {
   "cell_type": "code",
   "execution_count": 4,
   "metadata": {
    "_cell_guid": "96a5bd02-f562-4fad-91ea-6478e98b601b",
    "_uuid": "4c8b6297c9e0b5bfb76762d66c0dc235d29bbe81",
    "collapsed": true
   },
   "outputs": [],
   "source": [
    "from xgboost import XGBRegressor"
   ]
  },
  {
   "cell_type": "markdown",
   "metadata": {},
   "source": [
    "Step 4: Apply machine learning and create model"
   ]
  },
  {
   "cell_type": "code",
   "execution_count": 5,
   "metadata": {
    "_cell_guid": "76d1bf4d-2729-481b-9666-460c06ffefa9",
    "_uuid": "3081edc98417b50d20967bc3c2dc548814252e95"
   },
   "outputs": [
    {
     "data": {
      "text/plain": [
       "XGBRegressor(base_score=0.5, booster='gbtree', colsample_bylevel=1,\n",
       "       colsample_bytree=1, gamma=0, learning_rate=0.05, max_delta_step=0,\n",
       "       max_depth=3, min_child_weight=1, missing=None, n_estimators=100,\n",
       "       n_jobs=1, nthread=None, objective='reg:linear', random_state=0,\n",
       "       reg_alpha=0, reg_lambda=1, scale_pos_weight=1, seed=None,\n",
       "       silent=True, subsample=1)"
      ]
     },
     "execution_count": 5,
     "metadata": {},
     "output_type": "execute_result"
    }
   ],
   "source": [
    "my_model = XGBRegressor(n_estimators = 100,learning_rate = 0.05)\n",
    "my_model.fit(train_data,target,verbose = False)"
   ]
  },
  {
   "cell_type": "markdown",
   "metadata": {},
   "source": [
    "Step 5: Match test data attributes with training data attributes."
   ]
  },
  {
   "cell_type": "code",
   "execution_count": 6,
   "metadata": {
    "_cell_guid": "864f47db-86f6-4812-9514-0568588c7482",
    "_uuid": "7b04f14ef76f7eb16be22b6c3175ea2926544161",
    "collapsed": true
   },
   "outputs": [],
   "source": [
    "test_data = test_data_csv.select_dtypes(exclude = ['object'])"
   ]
  },
  {
   "cell_type": "markdown",
   "metadata": {},
   "source": [
    "Step 6: Apply model built in above steps to predict House price for test data"
   ]
  },
  {
   "cell_type": "code",
   "execution_count": 7,
   "metadata": {
    "_cell_guid": "12d1094d-c0ec-45b6-972c-46d92406705f",
    "_uuid": "62644daa30f2fbc6c968ae8ee1d446cda452af48",
    "collapsed": true
   },
   "outputs": [],
   "source": [
    "predicted_value = my_model.predict(test_data)"
   ]
  },
  {
   "cell_type": "code",
   "execution_count": 8,
   "metadata": {
    "_cell_guid": "89abb398-de30-49c4-94be-23068512e6ec",
    "_uuid": "252bf29c519b711424fdd143a097439c99bc10cf",
    "collapsed": true
   },
   "outputs": [],
   "source": [
    "submission = pd.DataFrame({'Id':test_data.Id,'SalePrice':predicted_value})"
   ]
  },
  {
   "cell_type": "markdown",
   "metadata": {},
   "source": [
    "Step 7: Writting outcome in a csv file"
   ]
  },
  {
   "cell_type": "code",
   "execution_count": 9,
   "metadata": {
    "_cell_guid": "71bfcf32-b935-446b-8e8c-6754344c30b8",
    "_uuid": "48931cf419965bf8f4814112ad5c6668802fa7be",
    "collapsed": true
   },
   "outputs": [],
   "source": [
    "submission.to_csv('submission.csv',index=False)"
   ]
  }
 ],
 "metadata": {
  "kernelspec": {
   "display_name": "Python 3",
   "language": "python",
   "name": "python3"
  },
  "language_info": {
   "codemirror_mode": {
    "name": "ipython",
    "version": 3
   },
   "file_extension": ".py",
   "mimetype": "text/x-python",
   "name": "python",
   "nbconvert_exporter": "python",
   "pygments_lexer": "ipython3",
   "version": "3.6.3"
  }
 },
 "nbformat": 4,
 "nbformat_minor": 1
}
